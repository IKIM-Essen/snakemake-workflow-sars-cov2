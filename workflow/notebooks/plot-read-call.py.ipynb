{
 "cells": [
  {
   "cell_type": "code",
   "execution_count": null,
   "source": [
    "import pandas as pd\n",
    "import altair as alt\n",
    "\n",
    "alt.data_transformers.disable_max_rows()\n",
    "alt.renderers.set_embed_options(padding={\"left\": 0, \"right\": 0, \"bottom\": 0, \"top\": 0})"
   ],
   "outputs": [],
   "metadata": {}
  },
  {
   "cell_type": "code",
   "execution_count": null,
   "source": [
    "calls = pd.read_csv(snakemake.input[0], sep=\"\\t\")\n",
    "# calls = pd.read_csv(\"/local/snakemake-workflow-sars-cov2/results/benchmarking/tables/aggregated_read_calls.tsv\", sep=\"\\t\")\n",
    "ordered_state = {\n",
    "    \"read\": \"1. Kallisto/Reads\",\n",
    "    \"contig\": \"2. Pangoling/Contig\",\n",
    "    \"scaffold\": \"3. Pangolin/Scaffold\",\n",
    "    \"polished_scaffold\": \"4. Pangolin/Polished Scaffold\",\n",
    "    \"pseudo\": \"5. Pangolin/Pseudo\",\n",
    "}\n",
    "calls[\"state\"].replace(ordered_state, inplace=True)"
   ],
   "outputs": [],
   "metadata": {}
  },
  {
   "cell_type": "code",
   "execution_count": null,
   "source": [
    "sort_order = [\"read\", \"contig\", \"scaffold\", \"polished_scaffold\", \"pseudo\"]\n",
    "\n",
    "heatmap = (\n",
    "    alt.Chart(calls)\n",
    "    .mark_bar()\n",
    "    .encode(\n",
    "        y=alt.Y(\n",
    "            \"read_number:O\", axis=alt.Axis(format=\",.0f\"), title=\"Read Count per Sample\"\n",
    "        ),\n",
    "        x=alt.X(\"read_length:O\", title=\"Read Length\"),\n",
    "        color=alt.Color(\n",
    "            \"sum(correct_call):Q\",\n",
    "            title=\"Lineage correctly called [%]\",\n",
    "            legend=alt.Legend(orient=\"bottom\"),\n",
    "        ),\n",
    "        tooltip=[\"sum(correct_call)\", \"count(correct_call)\"],\n",
    "        text=\"sum(correct_call):Q\",\n",
    "    )\n",
    ")\n",
    "\n",
    "text = (\n",
    "    alt.Chart()\n",
    "    .mark_text(baseline=\"middle\", fontSize=7)\n",
    "    .encode(\n",
    "        y=\"read_number:O\",\n",
    "        x=\"read_length:O\",\n",
    "        text=\"sum(correct_call):Q\",\n",
    "        color=alt.value(\"white\"),\n",
    "    )\n",
    ")\n",
    "\n",
    "# Draw the chart.\n",
    "alt.layer(heatmap, text, data=calls).facet(\n",
    "    facet=alt.Facet(\n",
    "        \"state\",\n",
    "        title=\"Lineage called on\",\n",
    "    ),\n",
    ").configure_scale(bandPaddingInner=0.01).save(snakemake.output[0])"
   ],
   "outputs": [],
   "metadata": {}
  }
 ],
 "metadata": {
  "interpreter": {
   "hash": "6e6743711d3090abb63b45743d8e2958544b53483047c20b35bb7b5d184104ff"
  },
  "kernelspec": {
   "name": "python3",
   "display_name": "Python 3.9.7 64-bit ('plot': conda)"
  },
  "language_info": {
   "codemirror_mode": {
    "name": "ipython",
    "version": 3
   },
   "file_extension": ".py",
   "mimetype": "text/x-python",
   "name": "python",
   "nbconvert_exporter": "python",
   "pygments_lexer": "ipython3",
   "version": "3.9.7"
  }
 },
 "nbformat": 4,
 "nbformat_minor": 4
}
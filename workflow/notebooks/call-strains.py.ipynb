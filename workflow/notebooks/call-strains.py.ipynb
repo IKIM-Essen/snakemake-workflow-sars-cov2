{
 "cells": [
  {
   "cell_type": "code",
   "execution_count": 26,
   "metadata": {},
   "outputs": [],
   "source": [
    "sys.stderr = open(snakemake.log[0], \"w\")\n",
    "import pandas as pd\n",
    "from pathlib import Path\n",
    "\n",
    "min_fraction = snakemake.params.get(\"min_fraction\", 0.01)\n",
    "\n",
    "quant = pd.read_csv(Path(snakemake.input[0]) / \"abundance.tsv\", sep=\"\\t\")\n",
    "\n",
    "# calculate total counts and fraction\n",
    "total_counts = quant[\"est_counts\"].sum()\n",
    "quant[\"fraction\"] = quant[\"est_counts\"] / total_counts\n",
    "\n",
    "# clean up dataframe\n",
    "quant = quant[[\"target_id\", \"fraction\", \"est_counts\"]]\n",
    "\n",
    "# summarize noise\n",
    "other = quant.loc[quant[\"fraction\"] < min_fraction, [\"fraction\", \"est_counts\"]].sum()\n",
    "other[\"target_id\"] = \"other\"\n",
    "other.name = \"other\"\n",
    "\n",
    "# filter dataframe and add noise row\n",
    "quant = quant.loc[quant[\"fraction\"] >= min_fraction].append(other).set_index(\"target_id\", drop=True)\n",
    "\n",
    "# store results\n",
    "quant.to_csv(snakemake.output[0], sep=\"\\t\")"
   ]
  }
 ],
 "metadata": {
  "kernelspec": {
   "display_name": "Python 3",
   "language": "python",
   "name": "python3"
  },
  "language_info": {
   "codemirror_mode": {
    "name": "ipython",
    "version": 3
   },
   "file_extension": ".py",
   "mimetype": "text/x-python",
   "name": "python",
   "nbconvert_exporter": "python",
   "pygments_lexer": "ipython3",
   "version": "3.9.1"
  }
 },
 "nbformat": 4,
 "nbformat_minor": 4
}

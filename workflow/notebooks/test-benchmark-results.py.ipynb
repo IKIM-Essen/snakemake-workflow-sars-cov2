{
 "cells": [
  {
   "cell_type": "code",
   "execution_count": 21,
   "metadata": {},
   "outputs": [],
   "source": [
    "sys.stderr = open(snakemake.log[0], \"w\")\n",
    "import pandas as pd\n",
    "\n",
    "with open(snakemake.output[0], \"w\") as out:\n",
    "    print(\n",
    "        \"true-accession\",\n",
    "        \"match/mismatch\",\n",
    "        \"found-accession\",\n",
    "        \"match-fraction\",\n",
    "        \"other-fraction\",\n",
    "        file=out,\n",
    "    )\n",
    "    for f, true_accession in zip(snakemake.input, snakemake.params.true_accessions):\n",
    "        result = pd.read_csv(f, sep=\"\\t\").set_index(\"target_id\", drop=False)\n",
    "        max_fraction = result[\"fraction\"].max()\n",
    "        found = result[\"target_id\"].apply(\n",
    "            lambda target_id: target_id.split(\".\")[0] == true_accession\n",
    "        )\n",
    "        match_fraction = result.loc[found, \"fraction\"][0] or 0.0\n",
    "        other_fraction = result.loc[\"other\", \"fraction\"]\n",
    "        match = \"match\" if match_fraction == max_fraction else \"mismatch\"\n",
    "        print(true_accession, match, match_fraction, other_fraction, sep=\"\\t\")\n",
    "        print(true_accession, match, match_fraction, other_fraction, sep=\"\\t\", file=out)"
   ]
  }
 ],
 "metadata": {
  "kernelspec": {
   "display_name": "Python 3",
   "language": "python",
   "name": "python3"
  },
  "language_info": {
   "codemirror_mode": {
    "name": "ipython",
    "version": 3
   },
   "file_extension": ".py",
   "mimetype": "text/x-python",
   "name": "python",
   "nbconvert_exporter": "python",
   "pygments_lexer": "ipython3",
   "version": "3.9.1"
  }
 },
 "nbformat": 4,
 "nbformat_minor": 5
}

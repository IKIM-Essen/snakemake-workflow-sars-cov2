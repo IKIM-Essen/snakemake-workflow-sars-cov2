{
 "cells": [
  {
   "cell_type": "code",
   "execution_count": 2,
   "metadata": {},
   "outputs": [],
   "source": [
    "sys.stderr = open(snakemake.log[0], \"w\")\n",
    "import pandas as pd\n",
    "\n",
    "with open(snakemake.output[0], \"w\") as out:\n",
    "    print(\"true-accession\", \"match/mismatch\", \"found-accession\", \"match-fraction\", file=out)\n",
    "    for f, true_accession in zip(snakemake.input, snakemake.params.true_accessions):\n",
    "        result = pd.read_csv(f).iloc[0]\n",
    "        accession = result[\"name\"].split(\".\")[0] # obtain accession, omitting dot version\n",
    "        match = \"match\" if true_accession == accession and result[\"f_match\"] == 1.0 else \"mismatch\"\n",
    "        print(true_accession, match, accession, result[\"f_match\"], sep=\"\\t\", file=out)"
   ]
  }
 ],
 "metadata": {
  "kernelspec": {
   "display_name": "Python 3",
   "language": "python",
   "name": "python3"
  },
  "language_info": {
   "codemirror_mode": {
    "name": "ipython",
    "version": 3
   },
   "file_extension": ".py",
   "mimetype": "text/x-python",
   "name": "python",
   "nbconvert_exporter": "python",
   "pygments_lexer": "ipython3",
   "version": "3.9.1"
  }
 },
 "nbformat": 4,
 "nbformat_minor": 4
}

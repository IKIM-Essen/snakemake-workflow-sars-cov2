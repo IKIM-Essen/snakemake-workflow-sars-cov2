{
 "cells": [
  {
   "cell_type": "code",
   "execution_count": 1,
   "metadata": {
    "tags": []
   },
   "outputs": [
    {
     "output_type": "error",
     "ename": "NameError",
     "evalue": "name 'snakemake' is not defined",
     "traceback": [
      "\u001b[0;31m---------------------------------------------------------------------------\u001b[0m",
      "\u001b[0;31mNameError\u001b[0m                                 Traceback (most recent call last)",
      "\u001b[0;32m<ipython-input-1-bc6f4387cf50>\u001b[0m in \u001b[0;36m<module>\u001b[0;34m\u001b[0m\n\u001b[0;32m----> 1\u001b[0;31m \u001b[0msys\u001b[0m\u001b[0;34m.\u001b[0m\u001b[0mstderr\u001b[0m \u001b[0;34m=\u001b[0m \u001b[0mopen\u001b[0m\u001b[0;34m(\u001b[0m\u001b[0msnakemake\u001b[0m\u001b[0;34m.\u001b[0m\u001b[0mlog\u001b[0m\u001b[0;34m[\u001b[0m\u001b[0;36m0\u001b[0m\u001b[0;34m]\u001b[0m\u001b[0;34m,\u001b[0m \u001b[0;34m\"w\"\u001b[0m\u001b[0;34m)\u001b[0m\u001b[0;34m\u001b[0m\u001b[0;34m\u001b[0m\u001b[0m\n\u001b[0m\u001b[1;32m      2\u001b[0m \u001b[0;32mimport\u001b[0m \u001b[0mpysam\u001b[0m\u001b[0;34m\u001b[0m\u001b[0;34m\u001b[0m\u001b[0m\n\u001b[1;32m      3\u001b[0m \u001b[0;31m#import glob\u001b[0m\u001b[0;34m\u001b[0m\u001b[0;34m\u001b[0m\u001b[0;34m\u001b[0m\u001b[0m\n\u001b[1;32m      4\u001b[0m \u001b[0;34m\u001b[0m\u001b[0m\n\u001b[1;32m      5\u001b[0m \u001b[0;31m#snakemake_input = glob.glob(\"../../results/benchmarking/assembly/*\")\u001b[0m\u001b[0;34m\u001b[0m\u001b[0;34m\u001b[0m\u001b[0;34m\u001b[0m\u001b[0m\n",
      "\u001b[0;31mNameError\u001b[0m: name 'snakemake' is not defined"
     ]
    }
   ],
   "source": [
    "sys.stderr = open(snakemake.log[0], \"w\")\n",
    "import pysam\n",
    "#import glob\n",
    "\n",
    "#snakemake_input = glob.glob(\"../../results/benchmarking/assembly/*\")\n",
    "#snakemake_output = '../../conda.csv'\n",
    "\n",
    "#with open(snakemake_output, \"w\") as out:\n",
    "with open(snakemake.output[0], \"w\") as out:\n",
    "   print(\"Accession\", \"Contigs\", 'Total contigs', 'Contig length', 'Reference length', 'Contig frac', 'Cum frac','Edit dist.', 'Edit frac', sep=\"\\t\")\n",
    "   print(\"Accession\", \"Contigs\", 'Total contigs', 'Contig length', 'Reference length', 'Contig frac', 'Cum frac','Edit dist.', 'Edit frac', sep=\"\\t\", file=out)\n",
    "   sum_of_edit_dist = 0\n",
    "   largest_no_contig = 0\n",
    "   small_larg_cover = 1.0\n",
    "   small_larg_cover_name = 'asd'\n",
    "   smallest_cum_frac = 1.0\n",
    "\n",
    "   #for bam_file in snakemake_input:\n",
    "   for bam_file in snakemake.input:\n",
    "      current_contig = 1\n",
    "\n",
    "      with pysam.AlignmentFile(bam_file, \"rb\") as samfile:\n",
    "         total_contigs = samfile.count()\n",
    "         accession = samfile.get_reference_name(0)\n",
    "         \n",
    "         largest_no_contig = total_contigs if total_contigs > largest_no_contig else largest_no_contig\n",
    "\n",
    "      with pysam.AlignmentFile(bam_file, \"rb\") as samfile:\n",
    "         ref_lengths = samfile.lengths[0]\n",
    "         largest_coverage = 0\n",
    "         cum_frac = 0\n",
    "         for read in samfile.fetch():\n",
    "            query_alignment_length = read.query_alignment_length\n",
    "            frac = round(query_alignment_length / ref_lengths, 2)\n",
    "            edit = read.get_tag(\"NM\")\n",
    "            cum_frac += frac\n",
    "            cum_frac = round(cum_frac, 2)\n",
    "            sum_of_edit_dist = sum_of_edit_dist + int(edit)\n",
    "            edit_frac = round(read.get_tag(\"NM\")/query_alignment_length, 5)\n",
    "            largest_coverage = frac if frac > largest_coverage else largest_coverage\n",
    "\n",
    "            print(accession, current_contig, total_contigs, query_alignment_length, ref_lengths, frac, cum_frac, edit, edit_frac, sep=\"\\t\")\n",
    "            print(accession, current_contig, total_contigs, query_alignment_length, ref_lengths, frac, cum_frac, edit, edit_frac, sep=\"\\t\", file=out)\n",
    "\n",
    "            current_contig += 1\n",
    "         smallest_cum_frac = cum_frac if smallest_cum_frac>cum_frac else smallest_cum_frac\n",
    "         small_larg_cover = largest_coverage if small_larg_cover>largest_coverage else small_larg_cover\n",
    "         small_larg_cover_name = accession if small_larg_cover>=largest_coverage else small_larg_cover_name\n",
    "\n",
    "   print('Largest number of contigs')\n",
    "   print(largest_no_contig)\n",
    "   print('Smallest largest coverage in ' + str(small_larg_cover_name))\n",
    "   print(small_larg_cover)\n",
    "   print('Sum of edit distances')\n",
    "   print(sum_of_edit_dist)\n",
    "   print('Smallest cum. fraction of contigs')\n",
    "   print(smallest_cum_frac)\n",
    "   print('Largest number of contigs', file=out)\n",
    "   print(largest_no_contig, file=out)\n",
    "   print('Smallest largest coverage in ' + str(small_larg_cover_name), file=out)\n",
    "   print(small_larg_cover, file=out)\n",
    "   print('Sum of edit distances', file=out)\n",
    "   print(sum_of_edit_dist, file=out)\n",
    "   print('Smallest cum. fraction of contigs', file=out)\n",
    "   print(smallest_cum_frac, file=out)\n"
   ]
  }
 ],
 "metadata": {
  "kernelspec": {
   "display_name": "Python 3",
   "language": "python",
   "name": "python3"
  },
  "language_info": {
   "codemirror_mode": {
    "name": "ipython",
    "version": 3
   },
   "file_extension": ".py",
   "mimetype": "text/x-python",
   "name": "python",
   "nbconvert_exporter": "python",
   "pygments_lexer": "ipython3",
   "version": "3.8.6-final"
  }
 },
 "nbformat": 4,
 "nbformat_minor": 4
}
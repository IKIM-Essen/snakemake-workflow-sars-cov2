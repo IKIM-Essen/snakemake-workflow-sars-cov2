{
 "cells": [
  {
   "cell_type": "code",
   "execution_count": 68,
   "metadata": {
    "tags": []
   },
   "outputs": [
    {
     "output_type": "stream",
     "name": "stdout",
     "text": [
      "Accession\tContigs\tTotal contigs\tContig length\tReference length\tContig frac\tEdit dist.\tEdit frac\nMT253698.1\t1\t1\t29781\t29781\t1.0\t110\t0.00369\nMT345844.1\t1\t2\t13448\t29776\t0.45\t0\t0.0\nMT345844.1\t2\t2\t16183\t29776\t0.54\t0\t0.0\nMT451042.1\t1\t2\t14289\t29822\t0.48\t0\t0.0\nMT451042.1\t2\t2\t15532\t29822\t0.52\t0\t0.0\n110\n"
     ]
    }
   ],
   "source": [
    "sys.stderr = open(snakemake.log[0], \"w\")\n",
    "import pandas as pd\n",
    "import pysam\n",
    "\n",
    "# snakemake_input = glob.glob(\"../../results/benchmarking/assembly/*\")\n",
    "# snakemake_output = '../../conda'\n",
    "\n",
    "# with open(snakemake_output, \"w\") as out:\n",
    "with open(snakemake.output[0], \"w\") as out:\n",
    "   print(\"Accession\", \"Contigs\", 'Total contigs', 'Contig length', 'Reference length', 'Contig frac', 'Edit dist.', 'Edit frac', sep=\"\\t\")\n",
    "   print(\"Accession\", \"Contigs\", 'Total contigs', 'Contig length', 'Reference length', 'Contig frac', 'Edit dist.', 'Edit frac', sep=\"\\t\", file=out)\n",
    "   sum_of_edit_dist = 0\n",
    "\n",
    "   # for bam_file in snakemake_input:\n",
    "   for bam_file in snakemake.input:\n",
    "      current_contig = 1\n",
    "\n",
    "      with pysam.AlignmentFile(bam_file, \"rb\") as samfile:\n",
    "         total_contigs = samfile.count()\n",
    "         accession = samfile.get_reference_name(0)\n",
    "\n",
    "      with pysam.AlignmentFile(bam_file, \"rb\") as samfile:\n",
    "         ref_lengths = samfile.lengths[0]\n",
    "         for read in samfile.fetch():\n",
    "            query_alignment_length = read.query_alignment_length\n",
    "            frac = round(query_alignment_length / ref_lengths, 2)\n",
    "            edit = read.get_tag(\"NM\")\n",
    "            sum_of_edit_dist = sum_of_edit_dist + int(edit)\n",
    "            edit_frac = round(read.get_tag(\"NM\")/query_alignment_length, 5)\n",
    "\n",
    "            print(accession, current_contig, total_contigs, query_alignment_length, ref_lengths, frac, edit, edit_frac, sep=\"\\t\")\n",
    "            print(accession, current_contig, total_contigs, query_alignment_length, ref_lengths, frac, edit, edit_frac, sep=\"\\t\", file=out)\n",
    "\n",
    "            current_contig += 1\n",
    "   \n",
    "   print(sum_of_edit_dist)\n",
    "   print(sum_of_edit_dist, file=out)       \n",
    "\n",
    "\n"
   ]
  }
 ],
 "metadata": {
  "kernelspec": {
   "display_name": "Python 3",
   "language": "python",
   "name": "python3"
  },
  "language_info": {
   "codemirror_mode": {
    "name": "ipython",
    "version": 3
   },
   "file_extension": ".py",
   "mimetype": "text/x-python",
   "name": "python",
   "nbconvert_exporter": "python",
   "pygments_lexer": "ipython3",
   "version": "3.8.5-final"
  }
 },
 "nbformat": 4,
 "nbformat_minor": 4
}
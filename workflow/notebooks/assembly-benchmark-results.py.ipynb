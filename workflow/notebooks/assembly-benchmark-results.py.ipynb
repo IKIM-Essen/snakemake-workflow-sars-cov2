{
 "cells": [
  {
   "cell_type": "code",
   "execution_count": 1,
   "metadata": {
    "tags": []
   },
   "outputs": [
    {
     "output_type": "stream",
     "name": "stdout",
     "text": [
      "Accession\tContigs\tTotal contigs\tContig length\tReference length\tContig frac\tEdit dist.\tEdit frac\nMT345844.1\t1\t1\t29776\t29776\t1.0\t2\t7e-05\nMT873106.1\t1\t28\t350\t29854\t0.01\t0\t0.0\nMT873106.1\t2\t28\t611\t29854\t0.02\t0\t0.0\nMT873106.1\t3\t28\t464\t29854\t0.02\t0\t0.0\nMT873106.1\t4\t28\t421\t29854\t0.01\t0\t0.0\nMT873106.1\t5\t28\t441\t29854\t0.01\t0\t0.0\nMT873106.1\t6\t28\t315\t29854\t0.01\t0\t0.0\nMT873106.1\t7\t28\t608\t29854\t0.02\t0\t0.0\nMT873106.1\t8\t28\t653\t29854\t0.02\t0\t0.0\nMT873106.1\t9\t28\t328\t29854\t0.01\t0\t0.0\nMT873106.1\t10\t28\t933\t29854\t0.03\t0\t0.0\nMT873106.1\t11\t28\t304\t29854\t0.01\t0\t0.0\nMT873106.1\t12\t28\t771\t29854\t0.03\t0\t0.0\nMT873106.1\t13\t28\t414\t29854\t0.01\t0\t0.0\nMT873106.1\t14\t28\t1772\t29854\t0.06\t0\t0.0\nMT873106.1\t15\t28\t371\t29854\t0.01\t1\t0.0027\nMT873106.1\t16\t28\t2336\t29854\t0.08\t0\t0.0\nMT873106.1\t17\t28\t1537\t29854\t0.05\t1\t0.00065\nMT873106.1\t18\t28\t546\t29854\t0.02\t0\t0.0\nMT873106.1\t19\t28\t1184\t29854\t0.04\t0\t0.0\nMT873106.1\t20\t28\t1024\t29854\t0.03\t0\t0.0\nMT873106.1\t21\t28\t879\t29854\t0.03\t0\t0.0\nMT873106.1\t22\t28\t1238\t29854\t0.04\t0\t0.0\nMT873106.1\t23\t28\t361\t29854\t0.01\t0\t0.0\nMT873106.1\t24\t28\t2193\t29854\t0.07\t0\t0.0\nMT873106.1\t25\t28\t948\t29854\t0.03\t0\t0.0\nMT873106.1\t26\t28\t598\t29854\t0.02\t0\t0.0\nMT873106.1\t27\t28\t713\t29854\t0.02\t0\t0.0\nMT873106.1\t28\t28\t979\t29854\t0.03\t0\t0.0\nMT971460.1\t1\t2\t6802\t29793\t0.23\t0\t0.0\nMT971460.1\t2\t2\t22962\t29793\t0.77\t0\t0.0\nMT470120.1\t1\t1\t29899\t29903\t1.0\t0\t0.0\nMT253698.1\t1\t1\t29781\t29781\t1.0\t0\t0.0\nMT451810.1\t1\t3\t535\t29804\t0.02\t0\t0.0\nMT451810.1\t2\t3\t6518\t29804\t0.22\t0\t0.0\nMT451810.1\t3\t3\t22277\t29804\t0.75\t0\t0.0\nMT810976.1\t1\t1\t29409\t29409\t1.0\t0\t0.0\nMW184368.1\t1\t1\t29848\t29848\t1.0\t0\t0.0\nMT834709.1\t1\t5\t907\t29118\t0.03\t0\t0.0\nMT834709.1\t2\t5\t2728\t29118\t0.09\t0\t0.0\nMT834709.1\t3\t5\t5001\t29118\t0.17\t0\t0.0\nMT834709.1\t4\t5\t7879\t29118\t0.27\t0\t0.0\nMT834709.1\t5\t5\t10593\t29118\t0.36\t0\t0.0\nMT451042.1\t1\t1\t29822\t29822\t1.0\t1\t3e-05\nMT502966.1\t1\t1\t3045\t3048\t1.0\t0\t0.0\nLargest number of contigs\n28\nSmallest largest coverage\n0.08\nSum of edit distances\n5\n"
     ]
    }
   ],
   "source": [
    "sys.stderr = open(snakemake.log[0], \"w\")\n",
    "import pysam\n",
    "# import glob\n",
    "\n",
    "# snakemake_input = glob.glob(\"../../results/benchmarking/assembly/*\")\n",
    "# snakemake_output = '../../conda'\n",
    "\n",
    "#with open(snakemake_output, \"w\") as out:\n",
    "with open(snakemake.output[0], \"w\") as out:\n",
    "   print(\"Accession\", \"Contigs\", 'Total contigs', 'Contig length', 'Reference length', 'Contig frac', 'Edit dist.', 'Edit frac', sep=\"\\t\")\n",
    "   print(\"Accession\", \"Contigs\", 'Total contigs', 'Contig length', 'Reference length', 'Contig frac', 'Edit dist.', 'Edit frac', sep=\"\\t\", file=out)\n",
    "   sum_of_edit_dist = 0\n",
    "   largest_no_contig = 0\n",
    "   small_larg_cover = 1.0\n",
    "\n",
    "   #for bam_file in snakemake_input:\n",
    "   for bam_file in snakemake.input:\n",
    "      current_contig = 1\n",
    "\n",
    "      with pysam.AlignmentFile(bam_file, \"rb\") as samfile:\n",
    "         total_contigs = samfile.count()\n",
    "         accession = samfile.get_reference_name(0)\n",
    "         \n",
    "         largest_no_contig = total_contigs if total_contigs > largest_no_contig else largest_no_contig\n",
    "\n",
    "      with pysam.AlignmentFile(bam_file, \"rb\") as samfile:\n",
    "         ref_lengths = samfile.lengths[0]\n",
    "         largest_coverage = 0\n",
    "         for read in samfile.fetch():\n",
    "            query_alignment_length = read.query_alignment_length\n",
    "            frac = round(query_alignment_length / ref_lengths, 2)\n",
    "            edit = read.get_tag(\"NM\")\n",
    "            sum_of_edit_dist = sum_of_edit_dist + int(edit)\n",
    "            edit_frac = round(read.get_tag(\"NM\")/query_alignment_length, 5)\n",
    "            largest_coverage = frac if frac > largest_coverage else largest_coverage\n",
    "\n",
    "            print(accession, current_contig, total_contigs, query_alignment_length, ref_lengths, frac, edit, edit_frac, sep=\"\\t\")\n",
    "            print(accession, current_contig, total_contigs, query_alignment_length, ref_lengths, frac, edit, edit_frac, sep=\"\\t\", file=out)\n",
    "\n",
    "            current_contig += 1\n",
    "         small_larg_cover = largest_coverage if small_larg_cover>largest_coverage else small_larg_cover\n",
    "   \n",
    "   print('Largest number of contigs')\n",
    "   print(largest_no_contig)\n",
    "   print('Smallest largest coverage')\n",
    "   print(small_larg_cover)\n",
    "   print('Sum of edit distances')\n",
    "   print(sum_of_edit_dist)\n",
    "   print('Largest number of contigs', file=out)\n",
    "   print(largest_no_contig, file=out)\n",
    "   print('Smallest largest coverage', file=out)\n",
    "   print(small_larg_cover, file=out)\n",
    "   print('Sum of edit distances', file=out)\n",
    "   print(sum_of_edit_dist, file=out)\n"
   ]
  }
 ],
 "metadata": {
  "kernelspec": {
   "display_name": "Python 3",
   "language": "python",
   "name": "python3"
  },
  "language_info": {
   "codemirror_mode": {
    "name": "ipython",
    "version": 3
   },
   "file_extension": ".py",
   "mimetype": "text/x-python",
   "name": "python",
   "nbconvert_exporter": "python",
   "pygments_lexer": "ipython3",
   "version": "3.8.6-final"
  }
 },
 "nbformat": 4,
 "nbformat_minor": 4
}
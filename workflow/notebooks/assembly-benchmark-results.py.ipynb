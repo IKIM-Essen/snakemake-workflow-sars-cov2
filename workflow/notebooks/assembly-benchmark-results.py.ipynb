{
 "cells": [
  {
   "cell_type": "code",
   "execution_count": 2,
   "metadata": {
    "tags": []
   },
   "outputs": [
    {
     "output_type": "stream",
     "name": "stdout",
     "text": [
      "Accession\tNo Contigs\n",
      "[(0, 29781)]\n",
      "../../results/benchmarking/assembly/MT253698.bam\t1\n",
      "[(0, 13448)]\n",
      "[(0, 16183)]\n",
      "../../results/benchmarking/assembly/MT345844.bam\t2\n",
      "[(0, 14289)]\n",
      "[(0, 15532)]\n",
      "../../results/benchmarking/assembly/MT451042.bam\t2\n"
     ]
    }
   ],
   "source": [
    "# sys.stderr = open(snakemake.log[0], \"w\")\n",
    "import pandas as pd\n",
    "import glob\n",
    "import pysam\n",
    "\n",
    "snakemake_input = glob.glob(\"../../results/benchmarking/assembly/*\")\n",
    "snakemake_output = '../../results/benchmarking/assembly.csv'\n",
    "\n",
    "# snakemake.output[0]\n",
    "with open(snakemake_output, \"w\") as out:\n",
    "   print(\"Accession\", \"No Contigs\", sep=\"\\t\")\n",
    "   print(\"Accession\", \"No Contigs\", sep=\"\\t\", file=out)\n",
    "\n",
    "   #snakemake.input\n",
    "   for bam_file in snakemake_input:\n",
    "      accession = bam_file\n",
    "\n",
    "      with pysam.AlignmentFile(bam_file, \"rb\") as samfile:\n",
    "         no_contigs = samfile.count()\n",
    "\n",
    "      with pysam.AlignmentFile(bam_file, \"rb\") as samfile:\n",
    "         for read in samfile.fetch():\n",
    "            print(read.cigartuples)\n",
    "      \n",
    "         \n",
    "      print(accession, no_contigs, sep=\"\\t\")\n",
    "      print(accession, no_contigs, sep=\"\\t\", file=out)\n",
    "      samfile.close()\n"
   ]
  },
  {
   "cell_type": "code",
   "execution_count": null,
   "metadata": {},
   "outputs": [],
   "source": []
  }
 ],
 "metadata": {
  "kernelspec": {
   "display_name": "Python 3",
   "language": "python",
   "name": "python3"
  },
  "language_info": {
   "codemirror_mode": {
    "name": "ipython",
    "version": 3
   },
   "file_extension": ".py",
   "mimetype": "text/x-python",
   "name": "python",
   "nbconvert_exporter": "python",
   "pygments_lexer": "ipython3",
   "version": "3.8.5-final"
  }
 },
 "nbformat": 4,
 "nbformat_minor": 4
}